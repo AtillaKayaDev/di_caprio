{
 "cells": [
  {
   "cell_type": "code",
   "execution_count": 2,
   "metadata": {},
   "outputs": [],
   "source": [
    "import pandas as pd\n",
    "import numpy as np\n",
    "import seaborn as sns\n",
    "import matplotlib.pyplot as plt\n",
    "sns.set_style('darkgrid', {'legend.frameon':True})"
   ]
  },
  {
   "cell_type": "code",
   "execution_count": 3,
   "metadata": {},
   "outputs": [],
   "source": [
    "df = pd.read_csv('csv/geo.csv', encoding = 'utf-8')"
   ]
  },
  {
   "cell_type": "code",
   "execution_count": 4,
   "metadata": {},
   "outputs": [
    {
     "data": {
      "text/html": [
       "<div>\n",
       "<style scoped>\n",
       "    .dataframe tbody tr th:only-of-type {\n",
       "        vertical-align: middle;\n",
       "    }\n",
       "\n",
       "    .dataframe tbody tr th {\n",
       "        vertical-align: top;\n",
       "    }\n",
       "\n",
       "    .dataframe thead th {\n",
       "        text-align: right;\n",
       "    }\n",
       "</style>\n",
       "<table border=\"1\" class=\"dataframe\">\n",
       "  <thead>\n",
       "    <tr style=\"text-align: right;\">\n",
       "      <th></th>\n",
       "      <th>url</th>\n",
       "      <th>nat</th>\n",
       "      <th>cap</th>\n",
       "    </tr>\n",
       "  </thead>\n",
       "  <tbody>\n",
       "    <tr>\n",
       "      <th>0</th>\n",
       "      <td>/titanic-survivor/elisabeth-walton-allen.html</td>\n",
       "      <td>American</td>\n",
       "      <td>Washington, D.C.</td>\n",
       "    </tr>\n",
       "    <tr>\n",
       "      <th>1</th>\n",
       "      <td>/titanic-survivor/harry-anderson.html</td>\n",
       "      <td>American</td>\n",
       "      <td>Washington, D.C.</td>\n",
       "    </tr>\n",
       "    <tr>\n",
       "      <th>2</th>\n",
       "      <td>/titanic-survivor/kornelia-theodosia-andrews.html</td>\n",
       "      <td>American</td>\n",
       "      <td>Washington, D.C.</td>\n",
       "    </tr>\n",
       "    <tr>\n",
       "      <th>3</th>\n",
       "      <td>/titanic-survivor/charlotte-appleton.html</td>\n",
       "      <td>American</td>\n",
       "      <td>Washington, D.C.</td>\n",
       "    </tr>\n",
       "    <tr>\n",
       "      <th>4</th>\n",
       "      <td>/titanic-survivor/madeleine-talmage-astor.html</td>\n",
       "      <td>American</td>\n",
       "      <td>Washington, D.C.</td>\n",
       "    </tr>\n",
       "  </tbody>\n",
       "</table>\n",
       "</div>"
      ],
      "text/plain": [
       "                                                 url       nat  \\\n",
       "0      /titanic-survivor/elisabeth-walton-allen.html  American   \n",
       "1              /titanic-survivor/harry-anderson.html  American   \n",
       "2  /titanic-survivor/kornelia-theodosia-andrews.html  American   \n",
       "3          /titanic-survivor/charlotte-appleton.html  American   \n",
       "4     /titanic-survivor/madeleine-talmage-astor.html  American   \n",
       "\n",
       "                cap  \n",
       "0  Washington, D.C.  \n",
       "1  Washington, D.C.  \n",
       "2  Washington, D.C.  \n",
       "3  Washington, D.C.  \n",
       "4  Washington, D.C.  "
      ]
     },
     "execution_count": 4,
     "metadata": {},
     "output_type": "execute_result"
    }
   ],
   "source": [
    "df.head()"
   ]
  },
  {
   "cell_type": "code",
   "execution_count": 5,
   "metadata": {},
   "outputs": [
    {
     "data": {
      "text/plain": [
       "English             320\n",
       "American            259\n",
       "Irish               126\n",
       "Swedish             112\n",
       "Syrian               86\n",
       "Finnish              60\n",
       "Canadian             36\n",
       "French               32\n",
       "Croatian             30\n",
       "Norwegian            29\n",
       "Bulgarian            26\n",
       "Welsh                18\n",
       "Scottish             17\n",
       "Swiss                17\n",
       "Russian              15\n",
       "Channel Islander     15\n",
       "Belgian              15\n",
       "Danish               10\n",
       "German               10\n",
       "Italian               9\n",
       "Spanish               9\n",
       "Austrian              8\n",
       "Chinese               8\n",
       "Polish                7\n",
       "Turkish               6\n",
       "Slovenian             4\n",
       "South African         4\n",
       "Greek                 4\n",
       "Portuguese            4\n",
       "Bosnian               4\n",
       "Uruguayan             3\n",
       "Lithuanian            2\n",
       "Australian            2\n",
       "Hungarian             1\n",
       "Siamese               1\n",
       "Argentinian           1\n",
       "Japanese              1\n",
       "Latvian               1\n",
       "Mexican               1\n",
       "Macedonian            1\n",
       "Czech                 1\n",
       "Egyptian              1\n",
       "Dutch                 1\n",
       "Name: nat, dtype: int64"
      ]
     },
     "execution_count": 5,
     "metadata": {},
     "output_type": "execute_result"
    }
   ],
   "source": [
    "df['nat'].value_counts()"
   ]
  },
  {
   "cell_type": "code",
   "execution_count": 6,
   "metadata": {},
   "outputs": [],
   "source": [
    "capitals = {\n",
    "    'English':'London',\n",
    "    'American':'Washington, D.C.',\n",
    "    'Irish':'Dublin',\n",
    "    'Swedish':'Stockholm',\n",
    "    'Syrian':'Damascus',\n",
    "    'Finnish':'Helsinki',\n",
    "    'Canadian':'Ottawa',\n",
    "    'French':'Paris',\n",
    "    'Croatian':'Zagreb',\n",
    "    'Norwegian':'Oslo',\n",
    "    'Bulgarian':'Sofia',\n",
    "    'Welsh':'Cardiff',\n",
    "    'Scottish':'Edinburgh',\n",
    "    'Swiss':'Bern',\n",
    "    'Channel Islander':'Saint Peter Port',\n",
    "    'Belgian':'Brussels',\n",
    "    'Russian':'Moscow',\n",
    "    'Danish':'Copenhagen',\n",
    "    'German':'Berlin',\n",
    "    'Spanish':'Madrid',\n",
    "    'Italian':'Rome',\n",
    "    'Austrian':'Vienna',\n",
    "    'Chinese':'Beijing',\n",
    "    'Polish':'Warsaw',\n",
    "    'Turkish':'Ankara',\n",
    "    'Greek':'Athens',\n",
    "    'Slovenian':'Ljubljana',\n",
    "    'South African':'Pretoria',\n",
    "    'Bosnian':'Sarajevo',\n",
    "    'Portuguese':'Lisbon',\n",
    "    'Uruguayan':'Montevideo',\n",
    "    'Lithuanian':'Vilnius',\n",
    "    'Australian':'Canberra',\n",
    "    'Latvian':'Riga',\n",
    "    'Siamese':'Bangkok',\n",
    "    'Dutch':'Amsterdam',\n",
    "    'Egyptian':'Cairo',\n",
    "    'Hungarian':'Budapest',\n",
    "    'Argentinian':'Buenos Aires',\n",
    "    'Mexican':'Mexico City',\n",
    "    'Czech':'Prague',\n",
    "    'Macedonian':'Skopje',\n",
    "    'Japanese':'Tokyo'\n",
    "}"
   ]
  },
  {
   "cell_type": "code",
   "execution_count": 7,
   "metadata": {},
   "outputs": [],
   "source": [
    "df['cap'] = df['nat'].apply(lambda x: capitals[x])"
   ]
  },
  {
   "cell_type": "code",
   "execution_count": 8,
   "metadata": {},
   "outputs": [
    {
     "data": {
      "text/html": [
       "<div>\n",
       "<style scoped>\n",
       "    .dataframe tbody tr th:only-of-type {\n",
       "        vertical-align: middle;\n",
       "    }\n",
       "\n",
       "    .dataframe tbody tr th {\n",
       "        vertical-align: top;\n",
       "    }\n",
       "\n",
       "    .dataframe thead th {\n",
       "        text-align: right;\n",
       "    }\n",
       "</style>\n",
       "<table border=\"1\" class=\"dataframe\">\n",
       "  <thead>\n",
       "    <tr style=\"text-align: right;\">\n",
       "      <th></th>\n",
       "      <th>url</th>\n",
       "      <th>nat</th>\n",
       "      <th>cap</th>\n",
       "    </tr>\n",
       "  </thead>\n",
       "  <tbody>\n",
       "    <tr>\n",
       "      <th>0</th>\n",
       "      <td>/titanic-survivor/elisabeth-walton-allen.html</td>\n",
       "      <td>American</td>\n",
       "      <td>Washington, D.C.</td>\n",
       "    </tr>\n",
       "    <tr>\n",
       "      <th>1</th>\n",
       "      <td>/titanic-survivor/harry-anderson.html</td>\n",
       "      <td>American</td>\n",
       "      <td>Washington, D.C.</td>\n",
       "    </tr>\n",
       "    <tr>\n",
       "      <th>2</th>\n",
       "      <td>/titanic-survivor/kornelia-theodosia-andrews.html</td>\n",
       "      <td>American</td>\n",
       "      <td>Washington, D.C.</td>\n",
       "    </tr>\n",
       "    <tr>\n",
       "      <th>3</th>\n",
       "      <td>/titanic-survivor/charlotte-appleton.html</td>\n",
       "      <td>American</td>\n",
       "      <td>Washington, D.C.</td>\n",
       "    </tr>\n",
       "    <tr>\n",
       "      <th>4</th>\n",
       "      <td>/titanic-survivor/madeleine-talmage-astor.html</td>\n",
       "      <td>American</td>\n",
       "      <td>Washington, D.C.</td>\n",
       "    </tr>\n",
       "  </tbody>\n",
       "</table>\n",
       "</div>"
      ],
      "text/plain": [
       "                                                 url       nat  \\\n",
       "0      /titanic-survivor/elisabeth-walton-allen.html  American   \n",
       "1              /titanic-survivor/harry-anderson.html  American   \n",
       "2  /titanic-survivor/kornelia-theodosia-andrews.html  American   \n",
       "3          /titanic-survivor/charlotte-appleton.html  American   \n",
       "4     /titanic-survivor/madeleine-talmage-astor.html  American   \n",
       "\n",
       "                cap  \n",
       "0  Washington, D.C.  \n",
       "1  Washington, D.C.  \n",
       "2  Washington, D.C.  \n",
       "3  Washington, D.C.  \n",
       "4  Washington, D.C.  "
      ]
     },
     "execution_count": 8,
     "metadata": {},
     "output_type": "execute_result"
    }
   ],
   "source": [
    "df.head()"
   ]
  },
  {
   "cell_type": "code",
   "execution_count": 9,
   "metadata": {},
   "outputs": [],
   "source": [
    "df.to_csv('csv/geo.csv', index=False, encoding='utf-8')"
   ]
  },
  {
   "cell_type": "code",
   "execution_count": 10,
   "metadata": {},
   "outputs": [
    {
     "data": {
      "text/html": [
       "<div>\n",
       "<style scoped>\n",
       "    .dataframe tbody tr th:only-of-type {\n",
       "        vertical-align: middle;\n",
       "    }\n",
       "\n",
       "    .dataframe tbody tr th {\n",
       "        vertical-align: top;\n",
       "    }\n",
       "\n",
       "    .dataframe thead th {\n",
       "        text-align: right;\n",
       "    }\n",
       "</style>\n",
       "<table border=\"1\" class=\"dataframe\">\n",
       "  <thead>\n",
       "    <tr style=\"text-align: right;\">\n",
       "      <th></th>\n",
       "      <th>url</th>\n",
       "      <th>nat</th>\n",
       "      <th>cap</th>\n",
       "    </tr>\n",
       "  </thead>\n",
       "  <tbody>\n",
       "    <tr>\n",
       "      <th>979</th>\n",
       "      <td>/titanic-survivor/masabumi-hosono.html</td>\n",
       "      <td>Japanese</td>\n",
       "      <td>Tokyo</td>\n",
       "    </tr>\n",
       "  </tbody>\n",
       "</table>\n",
       "</div>"
      ],
      "text/plain": [
       "                                        url       nat    cap\n",
       "979  /titanic-survivor/masabumi-hosono.html  Japanese  Tokyo"
      ]
     },
     "execution_count": 10,
     "metadata": {},
     "output_type": "execute_result"
    }
   ],
   "source": [
    "df[df['nat'] == 'Japanese']"
   ]
  },
  {
   "cell_type": "code",
   "execution_count": null,
   "metadata": {},
   "outputs": [],
   "source": []
  },
  {
   "cell_type": "code",
   "execution_count": null,
   "metadata": {},
   "outputs": [],
   "source": []
  }
 ],
 "metadata": {
  "kernelspec": {
   "display_name": "Python 3",
   "language": "python",
   "name": "python3"
  },
  "language_info": {
   "codemirror_mode": {
    "name": "ipython",
    "version": 3
   },
   "file_extension": ".py",
   "mimetype": "text/x-python",
   "name": "python",
   "nbconvert_exporter": "python",
   "pygments_lexer": "ipython3",
   "version": "3.7.4"
  }
 },
 "nbformat": 4,
 "nbformat_minor": 2
}
